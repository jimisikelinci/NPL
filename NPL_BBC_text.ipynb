{
  "nbformat": 4,
  "nbformat_minor": 0,
  "metadata": {
    "colab": {
      "name": "submition_1_Jeremy_Wijaya.ipynb",
      "provenance": [],
      "collapsed_sections": []
    },
    "kernelspec": {
      "name": "python3",
      "display_name": "Python 3"
    },
    "language_info": {
      "name": "python"
    }
  },
  "cells": [
    {
      "cell_type": "markdown",
      "metadata": {
        "id": "zweJHoSEDzD2"
      },
      "source": [
        "# **Dataset : BBC text**\n",
        "\n",
        "Kriteria :\n",
        "\n",
        "Dataset minimal memiliki 1000 sampel, Harus menggunakan LSTM dalam arsitektur model sequential, Validation set sebesar 20% dari total dataset, Harus menggunakan Embedding, Harus menggunakan fungsi tokenizer dan Akurasi dari model minimal 75%.\n",
        "\n",
        "data diri : Jeremy Wijaya"
      ]
    },
    {
      "cell_type": "code",
      "metadata": {
        "id": "ANizzJYjBQu8"
      },
      "source": [
        "# import libraries dan dataset bbc text\n",
        "import pandas as pd\n",
        "import tensorflow as tf\n",
        "df = pd.read_csv('bbc-text.csv')"
      ],
      "execution_count": 1,
      "outputs": []
    },
    {
      "cell_type": "code",
      "metadata": {
        "colab": {
          "base_uri": "https://localhost:8080/"
        },
        "id": "z-L21rgbCS8f",
        "outputId": "bb711fc1-9a0f-4d7e-f08d-950c442c15ab"
      },
      "source": [
        "# cek dataset\n",
        "df.info()"
      ],
      "execution_count": 2,
      "outputs": [
        {
          "output_type": "stream",
          "text": [
            "<class 'pandas.core.frame.DataFrame'>\n",
            "RangeIndex: 2225 entries, 0 to 2224\n",
            "Data columns (total 2 columns):\n",
            " #   Column    Non-Null Count  Dtype \n",
            "---  ------    --------------  ----- \n",
            " 0   category  2225 non-null   object\n",
            " 1   text      2225 non-null   object\n",
            "dtypes: object(2)\n",
            "memory usage: 34.9+ KB\n"
          ],
          "name": "stdout"
        }
      ]
    },
    {
      "cell_type": "markdown",
      "metadata": {
        "id": "EK4xMq-1Dw3n"
      },
      "source": [
        ""
      ]
    },
    {
      "cell_type": "code",
      "metadata": {
        "colab": {
          "base_uri": "https://localhost:8080/",
          "height": 406
        },
        "id": "UUYoazDWCGBX",
        "outputId": "89ecd018-ac93-4b83-e2f5-382d1edec647"
      },
      "source": [
        "# gunakan one hot encoding untuk mengubah data kategrikal menjadi numerik\n",
        "category = pd.get_dummies(df.category)\n",
        "df_baru = pd.concat([df, category], axis=1)\n",
        "df_baru = df_baru.drop(columns='category')\n",
        "df_baru"
      ],
      "execution_count": 3,
      "outputs": [
        {
          "output_type": "execute_result",
          "data": {
            "text/html": [
              "<div>\n",
              "<style scoped>\n",
              "    .dataframe tbody tr th:only-of-type {\n",
              "        vertical-align: middle;\n",
              "    }\n",
              "\n",
              "    .dataframe tbody tr th {\n",
              "        vertical-align: top;\n",
              "    }\n",
              "\n",
              "    .dataframe thead th {\n",
              "        text-align: right;\n",
              "    }\n",
              "</style>\n",
              "<table border=\"1\" class=\"dataframe\">\n",
              "  <thead>\n",
              "    <tr style=\"text-align: right;\">\n",
              "      <th></th>\n",
              "      <th>text</th>\n",
              "      <th>business</th>\n",
              "      <th>entertainment</th>\n",
              "      <th>politics</th>\n",
              "      <th>sport</th>\n",
              "      <th>tech</th>\n",
              "    </tr>\n",
              "  </thead>\n",
              "  <tbody>\n",
              "    <tr>\n",
              "      <th>0</th>\n",
              "      <td>tv future in the hands of viewers with home th...</td>\n",
              "      <td>0</td>\n",
              "      <td>0</td>\n",
              "      <td>0</td>\n",
              "      <td>0</td>\n",
              "      <td>1</td>\n",
              "    </tr>\n",
              "    <tr>\n",
              "      <th>1</th>\n",
              "      <td>worldcom boss  left books alone  former worldc...</td>\n",
              "      <td>1</td>\n",
              "      <td>0</td>\n",
              "      <td>0</td>\n",
              "      <td>0</td>\n",
              "      <td>0</td>\n",
              "    </tr>\n",
              "    <tr>\n",
              "      <th>2</th>\n",
              "      <td>tigers wary of farrell  gamble  leicester say ...</td>\n",
              "      <td>0</td>\n",
              "      <td>0</td>\n",
              "      <td>0</td>\n",
              "      <td>1</td>\n",
              "      <td>0</td>\n",
              "    </tr>\n",
              "    <tr>\n",
              "      <th>3</th>\n",
              "      <td>yeading face newcastle in fa cup premiership s...</td>\n",
              "      <td>0</td>\n",
              "      <td>0</td>\n",
              "      <td>0</td>\n",
              "      <td>1</td>\n",
              "      <td>0</td>\n",
              "    </tr>\n",
              "    <tr>\n",
              "      <th>4</th>\n",
              "      <td>ocean s twelve raids box office ocean s twelve...</td>\n",
              "      <td>0</td>\n",
              "      <td>1</td>\n",
              "      <td>0</td>\n",
              "      <td>0</td>\n",
              "      <td>0</td>\n",
              "    </tr>\n",
              "    <tr>\n",
              "      <th>...</th>\n",
              "      <td>...</td>\n",
              "      <td>...</td>\n",
              "      <td>...</td>\n",
              "      <td>...</td>\n",
              "      <td>...</td>\n",
              "      <td>...</td>\n",
              "    </tr>\n",
              "    <tr>\n",
              "      <th>2220</th>\n",
              "      <td>cars pull down us retail figures us retail sal...</td>\n",
              "      <td>1</td>\n",
              "      <td>0</td>\n",
              "      <td>0</td>\n",
              "      <td>0</td>\n",
              "      <td>0</td>\n",
              "    </tr>\n",
              "    <tr>\n",
              "      <th>2221</th>\n",
              "      <td>kilroy unveils immigration policy ex-chatshow ...</td>\n",
              "      <td>0</td>\n",
              "      <td>0</td>\n",
              "      <td>1</td>\n",
              "      <td>0</td>\n",
              "      <td>0</td>\n",
              "    </tr>\n",
              "    <tr>\n",
              "      <th>2222</th>\n",
              "      <td>rem announce new glasgow concert us band rem h...</td>\n",
              "      <td>0</td>\n",
              "      <td>1</td>\n",
              "      <td>0</td>\n",
              "      <td>0</td>\n",
              "      <td>0</td>\n",
              "    </tr>\n",
              "    <tr>\n",
              "      <th>2223</th>\n",
              "      <td>how political squabbles snowball it s become c...</td>\n",
              "      <td>0</td>\n",
              "      <td>0</td>\n",
              "      <td>1</td>\n",
              "      <td>0</td>\n",
              "      <td>0</td>\n",
              "    </tr>\n",
              "    <tr>\n",
              "      <th>2224</th>\n",
              "      <td>souness delight at euro progress boss graeme s...</td>\n",
              "      <td>0</td>\n",
              "      <td>0</td>\n",
              "      <td>0</td>\n",
              "      <td>1</td>\n",
              "      <td>0</td>\n",
              "    </tr>\n",
              "  </tbody>\n",
              "</table>\n",
              "<p>2225 rows × 6 columns</p>\n",
              "</div>"
            ],
            "text/plain": [
              "                                                   text  business  ...  sport  tech\n",
              "0     tv future in the hands of viewers with home th...         0  ...      0     1\n",
              "1     worldcom boss  left books alone  former worldc...         1  ...      0     0\n",
              "2     tigers wary of farrell  gamble  leicester say ...         0  ...      1     0\n",
              "3     yeading face newcastle in fa cup premiership s...         0  ...      1     0\n",
              "4     ocean s twelve raids box office ocean s twelve...         0  ...      0     0\n",
              "...                                                 ...       ...  ...    ...   ...\n",
              "2220  cars pull down us retail figures us retail sal...         1  ...      0     0\n",
              "2221  kilroy unveils immigration policy ex-chatshow ...         0  ...      0     0\n",
              "2222  rem announce new glasgow concert us band rem h...         0  ...      0     0\n",
              "2223  how political squabbles snowball it s become c...         0  ...      0     0\n",
              "2224  souness delight at euro progress boss graeme s...         0  ...      1     0\n",
              "\n",
              "[2225 rows x 6 columns]"
            ]
          },
          "metadata": {
            "tags": []
          },
          "execution_count": 3
        }
      ]
    },
    {
      "cell_type": "code",
      "metadata": {
        "id": "ypZ2jr74C743"
      },
      "source": [
        "# pisahkan label dengan fitur\n",
        "news = df_baru['text'].values\n",
        "label = df_baru[['business', 'entertainment', 'politics', 'sport', 'tech']].values"
      ],
      "execution_count": 4,
      "outputs": []
    },
    {
      "cell_type": "code",
      "metadata": {
        "id": "H5gyH9Z2DOMq"
      },
      "source": [
        "# lakukan pemecahan training dan validation data set\n",
        "from sklearn.model_selection import train_test_split\n",
        "news_latih, news_test, label_latih, label_test = train_test_split(news, label, test_size=0.2)"
      ],
      "execution_count": 5,
      "outputs": []
    },
    {
      "cell_type": "code",
      "metadata": {
        "id": "DCVL8uFaDmgE"
      },
      "source": [
        "# lakukan fungsi tokenizer untuk mendapatkan sequence\n",
        "# lalu gunakan padding agar sequence memiliki array yang sama\n",
        "from tensorflow.keras.preprocessing.text import Tokenizer\n",
        "from tensorflow.keras.preprocessing.sequence import pad_sequences\n",
        " \n",
        "tokenizer = Tokenizer(num_words=5000, oov_token='x')\n",
        "tokenizer.fit_on_texts(news_latih) \n",
        "tokenizer.fit_on_texts(news_test)\n",
        " \n",
        "sekuens_latih = tokenizer.texts_to_sequences(news_latih)\n",
        "sekuens_test = tokenizer.texts_to_sequences(news_test)\n",
        " \n",
        "padded_latih = pad_sequences(sekuens_latih) \n",
        "padded_test = pad_sequences(sekuens_test)"
      ],
      "execution_count": 6,
      "outputs": []
    },
    {
      "cell_type": "code",
      "metadata": {
        "colab": {
          "base_uri": "https://localhost:8080/"
        },
        "id": "RaGodcrSHx6P",
        "outputId": "64cba29c-9f35-4706-e50b-3acbbc7148cd"
      },
      "source": [
        "padded_test[0]"
      ],
      "execution_count": 7,
      "outputs": [
        {
          "output_type": "execute_result",
          "data": {
            "text/plain": [
              "array([   0,    0,    0, ...,   13,    2, 4403], dtype=int32)"
            ]
          },
          "metadata": {
            "tags": []
          },
          "execution_count": 7
        }
      ]
    },
    {
      "cell_type": "code",
      "metadata": {
        "id": "zpK_xrDPFzkZ"
      },
      "source": [
        "# buatlah sebuah class anak dari callback\n",
        "# buatlah dimana bila accuracy & val_accuracy > 90% \n",
        "# akan dilakukan callback\n",
        "class myCallback(tf.keras.callbacks.Callback):\n",
        "  def on_epoch_end(self, epoch, logs={}):\n",
        "    if(logs.get('accuracy')>0.9 and logs.get('val_accuracy')>0.9):\n",
        "      print(\"\\nAkurasi telah mencapai >90%!\")\n",
        "      self.model.stop_training = True\n",
        "callbacks = myCallback()"
      ],
      "execution_count": 8,
      "outputs": []
    },
    {
      "cell_type": "code",
      "metadata": {
        "id": "eeYV7qhrE-vy"
      },
      "source": [
        "# buatlah bentuk model sequential dengan \n",
        "import tensorflow as tf\n",
        "model = tf.keras.Sequential([\n",
        "    tf.keras.layers.Embedding(input_dim=5000, output_dim=16),\n",
        "    tf.keras.layers.LSTM(64),\n",
        "    tf.keras.layers.Dropout(0.5),\n",
        "    tf.keras.layers.Dense(128, activation='relu'),\n",
        "    tf.keras.layers.Dropout(0.5),\n",
        "    tf.keras.layers.Dense(64, activation='relu'),\n",
        "    tf.keras.layers.Dropout(0.5),\n",
        "    tf.keras.layers.Dense(5, activation='softmax')\n",
        "])\n",
        "model.compile(loss='categorical_crossentropy',optimizer='adam',metrics=['accuracy'])"
      ],
      "execution_count": 9,
      "outputs": []
    },
    {
      "cell_type": "code",
      "metadata": {
        "colab": {
          "base_uri": "https://localhost:8080/"
        },
        "id": "10AoD_NDGfQf",
        "outputId": "aa9ce540-9a7c-487a-ec1c-766d82c390e9"
      },
      "source": [
        "# traning set 1780 bacth size 100 agar mempercepat traning\n",
        "# lakukan pembuatan model dengan epoch 30\n",
        "num_epochs = 50\n",
        "history = model.fit(padded_latih, label_latih, epochs=num_epochs,\n",
        "                    batch_size = 100 , \n",
        "                    validation_data=(padded_test, label_test),\n",
        "                    callbacks=[callbacks], \n",
        "                    verbose=1\n",
        "                    )"
      ],
      "execution_count": 13,
      "outputs": [
        {
          "output_type": "stream",
          "text": [
            "Epoch 1/50\n",
            "18/18 [==============================] - 62s 3s/step - loss: 1.5482 - accuracy: 0.3045 - val_loss: 1.4373 - val_accuracy: 0.3798\n",
            "Epoch 2/50\n",
            "18/18 [==============================] - 62s 3s/step - loss: 1.3340 - accuracy: 0.4112 - val_loss: 1.2236 - val_accuracy: 0.3775\n",
            "Epoch 3/50\n",
            "18/18 [==============================] - 62s 3s/step - loss: 1.1580 - accuracy: 0.4197 - val_loss: 1.1098 - val_accuracy: 0.3753\n",
            "Epoch 4/50\n",
            "18/18 [==============================] - 62s 3s/step - loss: 1.0455 - accuracy: 0.4174 - val_loss: 1.0441 - val_accuracy: 0.3753\n",
            "Epoch 5/50\n",
            "18/18 [==============================] - 62s 3s/step - loss: 0.9744 - accuracy: 0.4421 - val_loss: 1.0365 - val_accuracy: 0.4045\n",
            "Epoch 6/50\n",
            "18/18 [==============================] - 62s 3s/step - loss: 0.9341 - accuracy: 0.4820 - val_loss: 1.0485 - val_accuracy: 0.4809\n",
            "Epoch 7/50\n",
            "18/18 [==============================] - 63s 3s/step - loss: 0.8672 - accuracy: 0.5612 - val_loss: 1.0037 - val_accuracy: 0.5820\n",
            "Epoch 8/50\n",
            "18/18 [==============================] - 63s 3s/step - loss: 0.7932 - accuracy: 0.6365 - val_loss: 0.9033 - val_accuracy: 0.6607\n",
            "Epoch 9/50\n",
            "18/18 [==============================] - 63s 4s/step - loss: 0.6512 - accuracy: 0.7393 - val_loss: 0.8371 - val_accuracy: 0.6562\n",
            "Epoch 10/50\n",
            "18/18 [==============================] - 63s 4s/step - loss: 0.5603 - accuracy: 0.7680 - val_loss: 0.8784 - val_accuracy: 0.6876\n",
            "Epoch 11/50\n",
            "18/18 [==============================] - 63s 4s/step - loss: 0.6285 - accuracy: 0.7062 - val_loss: 0.9114 - val_accuracy: 0.6472\n",
            "Epoch 12/50\n",
            "18/18 [==============================] - 63s 4s/step - loss: 0.5034 - accuracy: 0.7685 - val_loss: 0.8460 - val_accuracy: 0.7056\n",
            "Epoch 13/50\n",
            "18/18 [==============================] - 63s 4s/step - loss: 0.3852 - accuracy: 0.8225 - val_loss: 0.8034 - val_accuracy: 0.7371\n",
            "Epoch 14/50\n",
            "18/18 [==============================] - 63s 3s/step - loss: 0.3296 - accuracy: 0.8629 - val_loss: 0.8235 - val_accuracy: 0.7640\n",
            "Epoch 15/50\n",
            "18/18 [==============================] - 63s 4s/step - loss: 0.3051 - accuracy: 0.8978 - val_loss: 0.8847 - val_accuracy: 0.7663\n",
            "Epoch 16/50\n",
            "18/18 [==============================] - 63s 3s/step - loss: 0.2345 - accuracy: 0.9242 - val_loss: 0.8297 - val_accuracy: 0.7730\n",
            "Epoch 17/50\n",
            "18/18 [==============================] - 62s 3s/step - loss: 0.1655 - accuracy: 0.9539 - val_loss: 0.8330 - val_accuracy: 0.8112\n",
            "Epoch 18/50\n",
            "18/18 [==============================] - 63s 3s/step - loss: 0.1463 - accuracy: 0.9534 - val_loss: 0.9556 - val_accuracy: 0.7933\n",
            "Epoch 19/50\n",
            "18/18 [==============================] - 63s 4s/step - loss: 0.1393 - accuracy: 0.9607 - val_loss: 1.2318 - val_accuracy: 0.7640\n",
            "Epoch 20/50\n",
            "18/18 [==============================] - 63s 4s/step - loss: 0.2061 - accuracy: 0.9270 - val_loss: 1.1732 - val_accuracy: 0.7685\n",
            "Epoch 21/50\n",
            "18/18 [==============================] - 63s 4s/step - loss: 0.1245 - accuracy: 0.9590 - val_loss: 1.1065 - val_accuracy: 0.7843\n",
            "Epoch 22/50\n",
            "18/18 [==============================] - 63s 4s/step - loss: 0.0678 - accuracy: 0.9860 - val_loss: 1.1121 - val_accuracy: 0.8090\n",
            "Epoch 23/50\n",
            "18/18 [==============================] - 63s 3s/step - loss: 0.0504 - accuracy: 0.9871 - val_loss: 1.1710 - val_accuracy: 0.8112\n",
            "Epoch 24/50\n",
            "18/18 [==============================] - 63s 4s/step - loss: 0.0367 - accuracy: 0.9916 - val_loss: 1.1546 - val_accuracy: 0.8270\n",
            "Epoch 25/50\n",
            "18/18 [==============================] - 62s 3s/step - loss: 0.0340 - accuracy: 0.9916 - val_loss: 1.1933 - val_accuracy: 0.8292\n",
            "Epoch 26/50\n",
            "18/18 [==============================] - 63s 4s/step - loss: 0.0197 - accuracy: 0.9961 - val_loss: 1.2124 - val_accuracy: 0.8360\n",
            "Epoch 27/50\n",
            "18/18 [==============================] - 63s 3s/step - loss: 0.0226 - accuracy: 0.9961 - val_loss: 1.3166 - val_accuracy: 0.8292\n",
            "Epoch 28/50\n",
            "18/18 [==============================] - 63s 3s/step - loss: 0.0151 - accuracy: 0.9972 - val_loss: 1.3376 - val_accuracy: 0.8315\n",
            "Epoch 29/50\n",
            "18/18 [==============================] - 63s 4s/step - loss: 0.1816 - accuracy: 0.9511 - val_loss: 1.3045 - val_accuracy: 0.7596\n",
            "Epoch 30/50\n",
            "18/18 [==============================] - 63s 4s/step - loss: 0.1387 - accuracy: 0.9551 - val_loss: 1.2478 - val_accuracy: 0.7685\n",
            "Epoch 31/50\n",
            "18/18 [==============================] - 62s 3s/step - loss: 0.0605 - accuracy: 0.9848 - val_loss: 1.1425 - val_accuracy: 0.8067\n",
            "Epoch 32/50\n",
            "18/18 [==============================] - 63s 3s/step - loss: 0.0334 - accuracy: 0.9916 - val_loss: 1.1679 - val_accuracy: 0.8202\n",
            "Epoch 33/50\n",
            "18/18 [==============================] - 63s 3s/step - loss: 0.0243 - accuracy: 0.9955 - val_loss: 1.2742 - val_accuracy: 0.8202\n",
            "Epoch 34/50\n",
            "18/18 [==============================] - 62s 3s/step - loss: 0.0135 - accuracy: 0.9983 - val_loss: 1.2326 - val_accuracy: 0.8225\n",
            "Epoch 35/50\n",
            "18/18 [==============================] - 63s 3s/step - loss: 0.0205 - accuracy: 0.9966 - val_loss: 1.2316 - val_accuracy: 0.8360\n",
            "Epoch 36/50\n",
            "18/18 [==============================] - 63s 4s/step - loss: 0.0120 - accuracy: 0.9972 - val_loss: 1.3044 - val_accuracy: 0.8360\n",
            "Epoch 37/50\n",
            "18/18 [==============================] - 63s 4s/step - loss: 0.0082 - accuracy: 0.9983 - val_loss: 1.3529 - val_accuracy: 0.8315\n",
            "Epoch 38/50\n",
            "18/18 [==============================] - 63s 3s/step - loss: 0.0067 - accuracy: 0.9994 - val_loss: 1.3571 - val_accuracy: 0.8427\n",
            "Epoch 39/50\n",
            "18/18 [==============================] - 63s 3s/step - loss: 0.0089 - accuracy: 0.9978 - val_loss: 1.3363 - val_accuracy: 0.8494\n",
            "Epoch 40/50\n",
            "18/18 [==============================] - 63s 4s/step - loss: 0.0057 - accuracy: 1.0000 - val_loss: 1.2583 - val_accuracy: 0.8494\n",
            "Epoch 41/50\n",
            "18/18 [==============================] - 63s 4s/step - loss: 0.0076 - accuracy: 0.9983 - val_loss: 1.3725 - val_accuracy: 0.8562\n",
            "Epoch 42/50\n",
            "18/18 [==============================] - 62s 3s/step - loss: 0.0068 - accuracy: 0.9989 - val_loss: 1.3974 - val_accuracy: 0.8629\n",
            "Epoch 43/50\n",
            "18/18 [==============================] - 63s 4s/step - loss: 0.0352 - accuracy: 0.9916 - val_loss: 1.5276 - val_accuracy: 0.8090\n",
            "Epoch 44/50\n",
            "18/18 [==============================] - 63s 3s/step - loss: 0.0374 - accuracy: 0.9882 - val_loss: 1.3786 - val_accuracy: 0.8247\n",
            "Epoch 45/50\n",
            "18/18 [==============================] - 63s 4s/step - loss: 0.0196 - accuracy: 0.9955 - val_loss: 1.5143 - val_accuracy: 0.7888\n",
            "Epoch 46/50\n",
            "18/18 [==============================] - 63s 3s/step - loss: 0.0314 - accuracy: 0.9916 - val_loss: 1.4356 - val_accuracy: 0.8225\n",
            "Epoch 47/50\n",
            "18/18 [==============================] - 63s 3s/step - loss: 0.0151 - accuracy: 0.9949 - val_loss: 1.5083 - val_accuracy: 0.8247\n",
            "Epoch 48/50\n",
            "18/18 [==============================] - 63s 4s/step - loss: 0.0113 - accuracy: 0.9972 - val_loss: 1.4972 - val_accuracy: 0.8270\n",
            "Epoch 49/50\n",
            "18/18 [==============================] - 63s 3s/step - loss: 0.0053 - accuracy: 0.9989 - val_loss: 1.4679 - val_accuracy: 0.8225\n",
            "Epoch 50/50\n",
            "18/18 [==============================] - 63s 4s/step - loss: 0.0043 - accuracy: 1.0000 - val_loss: 1.5333 - val_accuracy: 0.8404\n"
          ],
          "name": "stdout"
        }
      ]
    },
    {
      "cell_type": "code",
      "metadata": {
        "id": "gzx--aBwkLA6"
      },
      "source": [
        "# dapat dilihat bahwa fungsi callback tidak dilakukan\n",
        "# dikarenakan accuracy dan val_accuracy tidak diatas"
      ],
      "execution_count": 15,
      "outputs": []
    },
    {
      "cell_type": "code",
      "metadata": {
        "colab": {
          "base_uri": "https://localhost:8080/",
          "height": 294
        },
        "id": "d6kIk5WBVD_9",
        "outputId": "41f10b70-bea7-4a0b-ad5b-a142847fc75e"
      },
      "source": [
        "# buat grafik learn rate\n",
        "import matplotlib.pyplot as plt\n",
        "plt.plot(history.history['accuracy'])\n",
        "plt.plot(history.history['val_accuracy'])\n",
        "plt.title('Model accuracy')\n",
        "plt.ylabel('Accuracy')\n",
        "plt.xlabel('Epoch')\n",
        "plt.legend(['Train'], loc='lower right')\n",
        "plt.show()"
      ],
      "execution_count": 16,
      "outputs": [
        {
          "output_type": "display_data",
          "data": {
            "image/png": "[encoded data removed]",
            "text/plain": [
              "<Figure size 432x288 with 1 Axes>"
            ]
          },
          "metadata": {
            "tags": [],
            "needs_background": "light"
          }
        }
      ]
    }
  ]
}